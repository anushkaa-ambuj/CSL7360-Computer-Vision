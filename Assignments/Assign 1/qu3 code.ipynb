{
 "cells": [
  {
   "cell_type": "code",
   "execution_count": 1,
   "id": "53405e81-6fd0-435f-a137-911e1d2ec11a",
   "metadata": {
    "tags": []
   },
   "outputs": [],
   "source": [
    "import cv2\n",
    "import numpy as np"
   ]
  },
  {
   "cell_type": "code",
   "execution_count": 2,
   "id": "0e258de3-b830-4aee-b74e-15ff9c9947c0",
   "metadata": {
    "tags": []
   },
   "outputs": [
    {
     "name": "stdout",
     "output_type": "stream",
     "text": [
      "Fundamental Matrix \n",
      " [[ 3.34638533e-07  7.58547151e-06 -2.04147752e-03]\n",
      " [-5.83765868e-06  1.36498636e-06  2.67566877e-04]\n",
      " [ 1.45892349e-03 -4.37648316e-03  1.00000000e+00]]\n"
     ]
    }
   ],
   "source": [
    "dir = 'Assignment 1/Question 3/'\n",
    "\n",
    "# Load the images\n",
    "image1 = cv2.imread(dir + '000000.png', 0)  # Load image in grayscale\n",
    "image2 = cv2.imread(dir + '000023.png', 0)  # Load image in grayscale\n",
    "\n",
    "# Read Fundamental matrix from file\n",
    "with open(dir + 'FM.txt', 'r') as file:\n",
    "    content = file.read()\n",
    "\n",
    "# Extract numerical values from the content\n",
    "values_str = content.replace('F=', '').strip().replace('[', '').replace(']', '').replace(';', '').replace('\\n', ',').split(',')\n",
    "#print(values_str)\n",
    "values = [float(val.strip()) for val in values_str]\n",
    "\n",
    "# Reshape the array into a 3x3 matrix\n",
    "F = np.array(values).reshape((3, 3))\n",
    "print(\"Fundamental Matrix \\n\",F)"
   ]
  },
  {
   "cell_type": "code",
   "execution_count": 3,
   "id": "680d5dfb-cc56-4a41-90be-bbb86701b62d",
   "metadata": {},
   "outputs": [],
   "source": [
    "def compute_epipolar_line(F, point, image_num):\n",
    "    if image_num == 1:\n",
    "        return np.dot(F, point)\n",
    "    elif image_num == 2:\n",
    "        return np.dot(np.transpose(F), point)\n",
    "\n",
    "def draw_line(image, line):\n",
    "    x0, y0 = map(int, [0, -line[2] / line[1]])\n",
    "    x1, y1 = map(int, [image.shape[1], -(line[2] + line[0] * image.shape[1]) / line[1]])\n",
    "    cv2.line(image, (x0, y0), (x1, y1), (0, 255, 0), 1)"
   ]
  },
  {
   "cell_type": "code",
   "execution_count": 4,
   "id": "f65d24bd-3725-4fc4-814d-e98c72bf7a21",
   "metadata": {},
   "outputs": [],
   "source": [
    "# Choose a point on the epipolar line\n",
    "point = np.array([10, 10, 1])\n",
    "\n",
    "# Compute epipolar lines for both images\n",
    "line1 = compute_epipolar_line(F, point, 1)\n",
    "line2 = compute_epipolar_line(F, point, 2)"
   ]
  },
  {
   "cell_type": "code",
   "execution_count": 5,
   "id": "5dfb2fa3-8951-4c3f-9aa1-ea6cc9de7fcf",
   "metadata": {},
   "outputs": [],
   "source": [
    "# Draw epipolar lines on the images\n",
    "image1_with_lines = cv2.cvtColor(image1, cv2.COLOR_GRAY2BGR)\n",
    "image2_with_lines = cv2.cvtColor(image2, cv2.COLOR_GRAY2BGR)\n",
    "draw_line(image1_with_lines, line1)\n",
    "draw_line(image2_with_lines, line2)"
   ]
  },
  {
   "cell_type": "code",
   "execution_count": 6,
   "id": "3820257f-b769-4048-87e9-8f81ba3b417c",
   "metadata": {
    "tags": []
   },
   "outputs": [],
   "source": [
    "# Display the images with epipolar lines\n",
    "cv2.imshow('Image 1 with Epipolar Lines', image1_with_lines)\n",
    "cv2.imshow('Image 2 with Epipolar Lines', image2_with_lines)\n",
    "cv2.waitKey(0)\n",
    "cv2.destroyAllWindows()"
   ]
  }
 ],
 "metadata": {
  "kernelspec": {
   "display_name": "Python 3 (ipykernel)",
   "language": "python",
   "name": "python3"
  },
  "language_info": {
   "codemirror_mode": {
    "name": "ipython",
    "version": 3
   },
   "file_extension": ".py",
   "mimetype": "text/x-python",
   "name": "python",
   "nbconvert_exporter": "python",
   "pygments_lexer": "ipython3",
   "version": "3.11.4"
  }
 },
 "nbformat": 4,
 "nbformat_minor": 5
}
